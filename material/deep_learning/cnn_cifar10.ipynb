{
  "nbformat": 4,
  "nbformat_minor": 0,
  "metadata": {
    "colab": {
      "name": "cnn_cifar10.ipynb",
      "provenance": [],
      "collapsed_sections": [],
      "include_colab_link": true
    },
    "kernelspec": {
      "name": "python3",
      "display_name": "Python 3"
    },
    "gpuClass": "standard"
  },
  "cells": [
    {
      "cell_type": "markdown",
      "metadata": {
        "id": "view-in-github",
        "colab_type": "text"
      },
      "source": [
        "<a href=\"https://colab.research.google.com/github/choyoona/AI-IoT/blob/main/material/deep_learning/cnn_cifar10.ipynb\" target=\"_parent\"><img src=\"https://colab.research.google.com/assets/colab-badge.svg\" alt=\"Open In Colab\"/></a>"
      ]
    },
    {
      "cell_type": "markdown",
      "metadata": {
        "id": "c503DSvxvOU5"
      },
      "source": [
        "# 이전 CNN 코드"
      ]
    },
    {
      "cell_type": "code",
      "metadata": {
        "id": "pH--ADDvhXQM"
      },
      "source": [
        "import numpy as np\n",
        "import matplotlib.pyplot as plt\n",
        "\n",
        "import tensorflow as tf\n",
        "from tensorflow import keras\n",
        "from tensorflow.keras import optimizers\n",
        "from tensorflow.keras.layers import Dense, Flatten, Conv2D, MaxPooling2D, BatchNormalization, Input, Reshape\n",
        "\n",
        "import time"
      ],
      "execution_count": 1,
      "outputs": []
    },
    {
      "cell_type": "code",
      "metadata": {
        "id": "puN5QRLz2toU"
      },
      "source": [
        "(raw_train_x, raw_train_y), (raw_test_x, raw_test_y) = tf.keras.datasets.mnist.load_data()\n",
        "\n",
        "train_x = raw_train_x/255.\n",
        "test_x = raw_test_x/255.\n",
        "\n",
        "train_y = raw_train_y\n",
        "test_y = raw_test_y"
      ],
      "execution_count": null,
      "outputs": []
    },
    {
      "cell_type": "code",
      "metadata": {
        "id": "cuW2ftNT2trB",
        "colab": {
          "base_uri": "https://localhost:8080/"
        },
        "outputId": "f157d035-4f8f-46e9-82fd-8170d86d9cfe"
      },
      "source": [
        "model = keras.Sequential()\n",
        "model.add(Input((28,28)))\n",
        "model.add(Reshape((28,28,1)))\n",
        "model.add(Conv2D(32, (3, 3), padding='same'))\n",
        "model.add(MaxPooling2D((2, 2)))\n",
        "model.add(Conv2D(64, (3, 3), padding='same'))\n",
        "model.add(MaxPooling2D((2, 2)))\n",
        "model.add(Flatten())\n",
        "model.add(Dense(10, activation='relu'))\n",
        "model.add(Dense(10, activation='relu'))\n",
        "model.add(Dense(10, activation='softmax'))\n",
        "\n",
        "model.compile(optimizer=\"adam\", loss=\"sparse_categorical_crossentropy\", metrics=[\"accuracy\"])\n",
        "model.summary()\n",
        "\n",
        "\n",
        "model.fit(train_x, train_y, epochs=5, verbose=1, batch_size=128)\n",
        "\n",
        "\n",
        "loss, acc = model.evaluate(test_x, test_y)\n",
        "print(\"loss=\",loss)\n",
        "print(\"acc=\",acc)\n",
        "\n",
        "y_ = model.predict(test_x)\n",
        "predicted = np.argmax(y_, axis=1)\n",
        "\n",
        "print(predicted)\n"
      ],
      "execution_count": null,
      "outputs": [
        {
          "output_type": "stream",
          "name": "stdout",
          "text": [
            "Model: \"sequential_31\"\n",
            "_________________________________________________________________\n",
            "Layer (type)                 Output Shape              Param #   \n",
            "=================================================================\n",
            "reshape_4 (Reshape)          (None, 28, 28, 1)         0         \n",
            "_________________________________________________________________\n",
            "conv2d_62 (Conv2D)           (None, 28, 28, 32)        320       \n",
            "_________________________________________________________________\n",
            "max_pooling2d_62 (MaxPooling (None, 14, 14, 32)        0         \n",
            "_________________________________________________________________\n",
            "conv2d_63 (Conv2D)           (None, 14, 14, 64)        18496     \n",
            "_________________________________________________________________\n",
            "max_pooling2d_63 (MaxPooling (None, 7, 7, 64)          0         \n",
            "_________________________________________________________________\n",
            "flatten_31 (Flatten)         (None, 3136)              0         \n",
            "_________________________________________________________________\n",
            "dense_93 (Dense)             (None, 10)                31370     \n",
            "_________________________________________________________________\n",
            "dense_94 (Dense)             (None, 10)                110       \n",
            "_________________________________________________________________\n",
            "dense_95 (Dense)             (None, 10)                110       \n",
            "=================================================================\n",
            "Total params: 50,406\n",
            "Trainable params: 50,406\n",
            "Non-trainable params: 0\n",
            "_________________________________________________________________\n",
            "Epoch 1/5\n",
            "469/469 [==============================] - 2s 4ms/step - loss: 0.4971 - accuracy: 0.8418\n",
            "Epoch 2/5\n",
            "469/469 [==============================] - 2s 3ms/step - loss: 0.1279 - accuracy: 0.9625\n",
            "Epoch 3/5\n",
            "469/469 [==============================] - 2s 4ms/step - loss: 0.0887 - accuracy: 0.9733\n",
            "Epoch 4/5\n",
            "469/469 [==============================] - 2s 4ms/step - loss: 0.0733 - accuracy: 0.9777\n",
            "Epoch 5/5\n",
            "469/469 [==============================] - 2s 3ms/step - loss: 0.0615 - accuracy: 0.9807\n",
            "313/313 [==============================] - 1s 2ms/step - loss: 0.0637 - accuracy: 0.9818\n",
            "loss= 0.06371552497148514\n",
            "acc= 0.9818000197410583\n",
            "[7 2 1 ... 4 5 6]\n"
          ]
        }
      ]
    },
    {
      "cell_type": "markdown",
      "metadata": {
        "id": "54-uB1LWA-5R"
      },
      "source": [
        "# CIFAR10 적용\n",
        "\n",
        "refered https://www.cs.toronto.edu/~kriz/cifar.html\n"
      ]
    },
    {
      "cell_type": "code",
      "metadata": {
        "id": "zHPDKioauhfZ"
      },
      "source": [
        "import numpy as np\n",
        "import matplotlib.pyplot as plt\n",
        "\n",
        "import tensorflow as tf\n",
        "from tensorflow import keras\n",
        "from tensorflow.keras import optimizers\n",
        "from tensorflow.keras.layers import Dense, Flatten, Conv2D, MaxPooling2D, BatchNormalization, Input, Reshape\n",
        "\n",
        "import time"
      ],
      "execution_count": 6,
      "outputs": []
    },
    {
      "cell_type": "code",
      "metadata": {
        "id": "oPclK8DGA_gw",
        "colab": {
          "base_uri": "https://localhost:8080/"
        },
        "outputId": "0c75b089-09b7-46fb-da77-a4492964a6c8"
      },
      "source": [
        "# (raw_train_x, raw_train_y), (raw_test_x, raw_test_y) = tf.keras.datasets.mnist.load_data()\n",
        "# (raw_train_x, raw_train_y), (raw_test_x, raw_test_y) = tf.keras.datasets.cifar10.load_data()\n",
        "(raw_train_x, raw_train_y), (raw_test_x, raw_test_y) = tf.keras.datasets.cifar100.load_data()\n",
        "\n",
        "print(raw_train_x.shape)\n",
        "print(raw_train_y.shape)\n",
        "print(raw_test_x.shape)\n",
        "print(raw_test_y.shape)\n",
        "\n",
        "\n",
        "train_x = raw_train_x/255.\n",
        "test_x = raw_test_x/255.\n",
        "\n",
        "train_y = raw_train_y\n",
        "test_y = raw_test_y"
      ],
      "execution_count": 7,
      "outputs": [
        {
          "output_type": "stream",
          "name": "stdout",
          "text": [
            "Downloading data from https://www.cs.toronto.edu/~kriz/cifar-100-python.tar.gz\n",
            "169009152/169001437 [==============================] - 5s 0us/step\n",
            "169017344/169001437 [==============================] - 5s 0us/step\n",
            "(50000, 32, 32, 3)\n",
            "(50000, 1)\n",
            "(10000, 32, 32, 3)\n",
            "(10000, 1)\n"
          ]
        }
      ]
    },
    {
      "cell_type": "code",
      "metadata": {
        "id": "SrbJDeptkD3j",
        "colab": {
          "base_uri": "https://localhost:8080/"
        },
        "outputId": "840b26bf-811e-4136-d70d-9f99bca330ee"
      },
      "source": [
        "print(raw_train_x[0])"
      ],
      "execution_count": 8,
      "outputs": [
        {
          "output_type": "stream",
          "name": "stdout",
          "text": [
            "[[[255 255 255]\n",
            "  [255 255 255]\n",
            "  [255 255 255]\n",
            "  ...\n",
            "  [195 205 193]\n",
            "  [212 224 204]\n",
            "  [182 194 167]]\n",
            "\n",
            " [[255 255 255]\n",
            "  [254 254 254]\n",
            "  [254 254 254]\n",
            "  ...\n",
            "  [170 176 150]\n",
            "  [161 168 130]\n",
            "  [146 154 113]]\n",
            "\n",
            " [[255 255 255]\n",
            "  [254 254 254]\n",
            "  [255 255 255]\n",
            "  ...\n",
            "  [189 199 169]\n",
            "  [166 178 130]\n",
            "  [121 133  87]]\n",
            "\n",
            " ...\n",
            "\n",
            " [[148 185  79]\n",
            "  [142 182  57]\n",
            "  [140 179  60]\n",
            "  ...\n",
            "  [ 30  17   1]\n",
            "  [ 65  62  15]\n",
            "  [ 76  77  20]]\n",
            "\n",
            " [[122 157  66]\n",
            "  [120 155  58]\n",
            "  [126 160  71]\n",
            "  ...\n",
            "  [ 22  16   3]\n",
            "  [ 97 112  56]\n",
            "  [141 161  87]]\n",
            "\n",
            " [[ 87 122  41]\n",
            "  [ 88 122  39]\n",
            "  [101 134  56]\n",
            "  ...\n",
            "  [ 34  36  10]\n",
            "  [105 133  59]\n",
            "  [138 173  79]]]\n"
          ]
        }
      ]
    },
    {
      "cell_type": "code",
      "metadata": {
        "id": "lNy4AUQDylpU",
        "colab": {
          "base_uri": "https://localhost:8080/",
          "height": 1000
        },
        "outputId": "dc8e1c9c-b9c6-4f8d-8581-4feca6c989ee"
      },
      "source": [
        "labels = [\"airplane\", \"automobile\", \"bird\", \"cat\", \"deer\", \"dog\", \"frog\", \"horse\", \"ship\", \"truck\"] # 10개\n",
        "\n",
        "def show_sample(i):\n",
        "  # print(raw_train_y[i][0], labels[raw_train_y[i][0]])\n",
        "  plt.imshow(raw_train_x[i])\n",
        "  plt.show()\n",
        "\n",
        "for i in [2, 10, 12, 14]:\n",
        "  show_sample(i)"
      ],
      "execution_count": 9,
      "outputs": [
        {
          "output_type": "display_data",
          "data": {
            "text/plain": [
              "<Figure size 432x288 with 1 Axes>"
            ],
            "image/png": "[encoded data removed]"
          },
          "metadata": {
            "needs_background": "light"
          }
        },
        {
          "output_type": "display_data",
          "data": {
            "text/plain": [
              "<Figure size 432x288 with 1 Axes>"
            ],
            "image/png": "[encoded data removed]"
          },
          "metadata": {
            "needs_background": "light"
          }
        },
        {
          "output_type": "display_data",
          "data": {
            "text/plain": [
              "<Figure size 432x288 with 1 Axes>"
            ],
            "image/png": "[encoded data removed]"
          },
          "metadata": {
            "needs_background": "light"
          }
        },
        {
          "output_type": "display_data",
          "data": {
            "text/plain": [
              "<Figure size 432x288 with 1 Axes>"
            ],
            "image/png": "[encoded data removed]"
          },
          "metadata": {
            "needs_background": "light"
          }
        }
      ]
    },
    {
      "cell_type": "code",
      "metadata": {
        "id": "om_gEsuDA_jp",
        "colab": {
          "base_uri": "https://localhost:8080/"
        },
        "outputId": "1ba183be-038b-4962-98a7-8897986c534f"
      },
      "source": [
        "model = keras.Sequential()\n",
        "# model.add(Input((28,28)))\n",
        "# model.add(Reshape((28,28,1)))\n",
        "model.add(Input((32,32,3)))\n",
        "model.add(Conv2D(32, (3, 3), padding='same'))\n",
        "model.add(MaxPooling2D((2, 2)))\n",
        "model.add(Conv2D(64, (3, 3), padding='same'))\n",
        "model.add(MaxPooling2D((2, 2)))\n",
        "model.add(Flatten())\n",
        "model.add(Dense(10, activation='relu'))\n",
        "model.add(Dense(10, activation='relu'))\n",
        "# model.add(Dense(10, activation='softmax'))\n",
        "model.add(Dense(100, activation='softmax'))\n",
        "\n",
        "model.compile(optimizer=\"adam\", loss=\"sparse_categorical_crossentropy\", metrics=[\"accuracy\"])\n",
        "model.summary()\n",
        "\n",
        "\n",
        "# model.fit(train_x, train_y, epochs=5, verbose=1, batch_size=128)\n",
        "history = model.fit(train_x, train_y, epochs=50, verbose=1, batch_size=128, validation_split=0.1)\n",
        "\n",
        "plt.plot(history.history['loss'])\n",
        "plt.plot(history.history['val_loss'])\n",
        "plt.show()\n",
        "\n",
        "\n",
        "loss, acc = model.evaluate(test_x, test_y)\n",
        "print(\"loss=\",loss)\n",
        "print(\"acc=\",acc)\n",
        "\n",
        "y_ = model.predict(test_x)\n",
        "predicted = np.argmax(y_, axis=1)\n",
        "\n",
        "print(predicted)\n"
      ],
      "execution_count": null,
      "outputs": [
        {
          "output_type": "stream",
          "name": "stdout",
          "text": [
            "Model: \"sequential\"\n",
            "_________________________________________________________________\n",
            " Layer (type)                Output Shape              Param #   \n",
            "=================================================================\n",
            " conv2d (Conv2D)             (None, 32, 32, 32)        896       \n",
            "                                                                 \n",
            " max_pooling2d (MaxPooling2D  (None, 16, 16, 32)       0         \n",
            " )                                                               \n",
            "                                                                 \n",
            " conv2d_1 (Conv2D)           (None, 16, 16, 64)        18496     \n",
            "                                                                 \n",
            " max_pooling2d_1 (MaxPooling  (None, 8, 8, 64)         0         \n",
            " 2D)                                                             \n",
            "                                                                 \n",
            " flatten (Flatten)           (None, 4096)              0         \n",
            "                                                                 \n",
            " dense (Dense)               (None, 10)                40970     \n",
            "                                                                 \n",
            " dense_1 (Dense)             (None, 10)                110       \n",
            "                                                                 \n",
            " dense_2 (Dense)             (None, 100)               1100      \n",
            "                                                                 \n",
            "=================================================================\n",
            "Total params: 61,572\n",
            "Trainable params: 61,572\n",
            "Non-trainable params: 0\n",
            "_________________________________________________________________\n",
            "Epoch 1/50\n",
            "352/352 [==============================] - 67s 189ms/step - loss: 4.6056 - accuracy: 0.0088 - val_loss: 4.6059 - val_accuracy: 0.0078\n",
            "Epoch 2/50\n",
            "352/352 [==============================] - 67s 190ms/step - loss: 4.6055 - accuracy: 0.0097 - val_loss: 4.6066 - val_accuracy: 0.0074\n",
            "Epoch 3/50\n",
            "352/352 [==============================] - 71s 201ms/step - loss: 4.6055 - accuracy: 0.0093 - val_loss: 4.6070 - val_accuracy: 0.0074\n",
            "Epoch 4/50\n",
            "352/352 [==============================] - 71s 201ms/step - loss: 4.6054 - accuracy: 0.0092 - val_loss: 4.6073 - val_accuracy: 0.0076\n",
            "Epoch 5/50\n",
            "352/352 [==============================] - 71s 203ms/step - loss: 4.6054 - accuracy: 0.0098 - val_loss: 4.6073 - val_accuracy: 0.0070\n",
            "Epoch 6/50\n",
            "352/352 [==============================] - 73s 207ms/step - loss: 4.6054 - accuracy: 0.0096 - val_loss: 4.6075 - val_accuracy: 0.0070\n",
            "Epoch 7/50\n",
            "352/352 [==============================] - 73s 207ms/step - loss: 4.6054 - accuracy: 0.0091 - val_loss: 4.6076 - val_accuracy: 0.0070\n",
            "Epoch 8/50\n",
            "352/352 [==============================] - 70s 199ms/step - loss: 4.6054 - accuracy: 0.0095 - val_loss: 4.6077 - val_accuracy: 0.0070\n",
            "Epoch 9/50\n",
            "352/352 [==============================] - 69s 196ms/step - loss: 4.6054 - accuracy: 0.0099 - val_loss: 4.6077 - val_accuracy: 0.0070\n",
            "Epoch 10/50\n",
            "352/352 [==============================] - 67s 192ms/step - loss: 4.6054 - accuracy: 0.0100 - val_loss: 4.6077 - val_accuracy: 0.0070\n",
            "Epoch 11/50\n",
            "352/352 [==============================] - 69s 197ms/step - loss: 4.6054 - accuracy: 0.0096 - val_loss: 4.6077 - val_accuracy: 0.0070\n",
            "Epoch 12/50\n",
            " 49/352 [===>..........................] - ETA: 57s - loss: 4.6048 - accuracy: 0.0100"
          ]
        }
      ]
    },
    {
      "cell_type": "code",
      "metadata": {
        "id": "6Oj5QSsQ_EZu"
      },
      "source": [
        ""
      ],
      "execution_count": null,
      "outputs": []
    }
  ]
}