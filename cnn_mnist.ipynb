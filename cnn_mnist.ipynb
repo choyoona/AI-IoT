{
  "nbformat": 4,
  "nbformat_minor": 0,
  "metadata": {
    "colab": {
      "name": "cnn_mnist.ipynb",
      "provenance": [],
      "collapsed_sections": [],
      "include_colab_link": true
    },
    "kernelspec": {
      "name": "python3",
      "display_name": "Python 3"
    },
    "accelerator": "GPU"
  },
  "cells": [
    {
      "cell_type": "markdown",
      "metadata": {
        "id": "view-in-github",
        "colab_type": "text"
      },
      "source": [
        "<a href=\"https://colab.research.google.com/github/choyoona/AI-IoT/blob/main/cnn_mnist.ipynb\" target=\"_parent\"><img src=\"https://colab.research.google.com/assets/colab-badge.svg\" alt=\"Open In Colab\"/></a>"
      ]
    },
    {
      "cell_type": "markdown",
      "metadata": {
        "id": "c503DSvxvOU5"
      },
      "source": [
        "# 이전 DNN 코드"
      ]
    },
    {
      "cell_type": "code",
      "metadata": {
        "id": "G8M2QsSUxGZn"
      },
      "source": [
        "import numpy as np\n",
        "import matplotlib.pyplot as plt\n",
        "\n",
        "import tensorflow as tf\n",
        "from tensorflow import keras\n",
        "from tensorflow.keras import optimizers\n",
        "from tensorflow.keras.layers import Dense, Flatten, Input\n",
        "\n",
        "import time"
      ],
      "execution_count": null,
      "outputs": []
    },
    {
      "cell_type": "code",
      "metadata": {
        "id": "98Ly9UIFxIjO",
        "outputId": "aa3a35fe-f6f8-4b31-fe0b-a509d33cee5f",
        "colab": {
          "base_uri": "https://localhost:8080/"
        }
      },
      "source": [
        "(raw_train_x, raw_train_y), (raw_test_x, raw_test_y) = tf.keras.datasets.mnist.load_data()\n",
        "\n",
        "train_x = raw_train_x/255.\n",
        "test_x = raw_test_x/255.\n",
        "\n",
        "train_y = raw_train_y\n",
        "test_y = raw_test_y"
      ],
      "execution_count": null,
      "outputs": [
        {
          "output_type": "stream",
          "name": "stdout",
          "text": [
            "Downloading data from https://storage.googleapis.com/tensorflow/tf-keras-datasets/mnist.npz\n",
            "11493376/11490434 [==============================] - 0s 0us/step\n",
            "11501568/11490434 [==============================] - 0s 0us/step\n"
          ]
        }
      ]
    },
    {
      "cell_type": "code",
      "metadata": {
        "id": "gZ-hK0S5xIl7",
        "colab": {
          "base_uri": "https://localhost:8080/",
          "height": 625
        },
        "outputId": "12e3c449-62d9-4a1a-f41c-8fb0454b083c"
      },
      "source": [
        "\n",
        "model = keras.Sequential()\n",
        "model.add(Input((28,28)))\n",
        "model.add(Flatten())\n",
        "model.add(Dense(10, activation='relu'))\n",
        "model.add(Dense(10, activation='relu'))\n",
        "model.add(Dense(10, activation='softmax'))\n",
        "\n",
        "model.compile(optimizer=\"adam\", loss=\"sparse_categorical_crossentropy\", metrics=[\"accuracy\"])\n",
        "model.summary()\n",
        "\n",
        "\n",
        "model.fit(train_x, train_y, epochs=5, verbose=1, batch_size=128)\n",
        "\n",
        "\n",
        "loss, acc = model.evaluate(test_x, test_y)\n",
        "print(\"loss=\",loss)\n",
        "print(\"acc=\",acc)\n",
        "\n",
        "y_ = model.predict(test_x)\n",
        "predicted = np.argmax(y_, axis=1)\n",
        "\n",
        "print(predicted)\n"
      ],
      "execution_count": null,
      "outputs": [
        {
          "output_type": "stream",
          "text": [
            "WARNING: Logging before flag parsing goes to stderr.\n",
            "W0821 00:48:13.984249 140281580390272 deprecation.py:506] From /usr/local/lib/python3.6/dist-packages/tensorflow/python/ops/init_ops.py:1251: calling VarianceScaling.__init__ (from tensorflow.python.ops.init_ops) with dtype is deprecated and will be removed in a future version.\n",
            "Instructions for updating:\n",
            "Call initializer instance with the dtype argument instead of passing it to the constructor\n"
          ],
          "name": "stderr"
        },
        {
          "output_type": "stream",
          "text": [
            "Model: \"sequential\"\n",
            "_________________________________________________________________\n",
            "Layer (type)                 Output Shape              Param #   \n",
            "=================================================================\n",
            "flatten (Flatten)            (None, 784)               0         \n",
            "_________________________________________________________________\n",
            "dense (Dense)                (None, 10)                7850      \n",
            "_________________________________________________________________\n",
            "dense_1 (Dense)              (None, 10)                110       \n",
            "_________________________________________________________________\n",
            "dense_2 (Dense)              (None, 10)                110       \n",
            "=================================================================\n",
            "Total params: 8,070\n",
            "Trainable params: 8,070\n",
            "Non-trainable params: 0\n",
            "_________________________________________________________________\n",
            "Epoch 1/5\n",
            "60000/60000 [==============================] - 1s 20us/sample - loss: 0.7731 - acc: 0.7749\n",
            "Epoch 2/5\n",
            "60000/60000 [==============================] - 1s 19us/sample - loss: 0.3412 - acc: 0.9015\n",
            "Epoch 3/5\n",
            "60000/60000 [==============================] - 1s 19us/sample - loss: 0.2946 - acc: 0.9146\n",
            "Epoch 4/5\n",
            "60000/60000 [==============================] - 1s 19us/sample - loss: 0.2712 - acc: 0.9217\n",
            "Epoch 5/5\n",
            "60000/60000 [==============================] - 1s 19us/sample - loss: 0.2559 - acc: 0.9261\n",
            "10000/10000 [==============================] - 0s 28us/sample - loss: 0.2579 - acc: 0.9250\n",
            "loss= 0.25794000726342203\n",
            "acc= 0.925\n",
            "[7 2 1 ... 4 5 6]\n"
          ],
          "name": "stdout"
        }
      ]
    },
    {
      "cell_type": "markdown",
      "metadata": {
        "id": "cHcZ3XNF2qkV"
      },
      "source": [
        "# CNN"
      ]
    },
    {
      "cell_type": "code",
      "metadata": {
        "id": "vP9m1uS2fxj1"
      },
      "source": [
        "import numpy as np\n",
        "import matplotlib.pyplot as plt\n",
        "\n",
        "import tensorflow as tf\n",
        "from tensorflow import keras\n",
        "from tensorflow.keras import optimizers\n",
        "from tensorflow.keras.layers import Dense, Flatten, Conv2D, MaxPooling2D, Input, Reshape\n",
        "\n",
        "import time"
      ],
      "execution_count": null,
      "outputs": []
    },
    {
      "cell_type": "code",
      "metadata": {
        "id": "h-Hlstlof5l6"
      },
      "source": [
        "(raw_train_x, raw_train_y), (raw_test_x, raw_test_y) = tf.keras.datasets.mnist.load_data()\n",
        "\n",
        "train_x = raw_train_x/255.\n",
        "test_x = raw_test_x/255.\n",
        "\n",
        "train_y = raw_train_y\n",
        "test_y = raw_test_y"
      ],
      "execution_count": null,
      "outputs": []
    },
    {
      "cell_type": "code",
      "metadata": {
        "id": "nRkSjvdSkgfc",
        "colab": {
          "base_uri": "https://localhost:8080/",
          "height": 1000
        },
        "outputId": "9cd5fee8-6156-4408-ddd2-f048fe8e772b"
      },
      "source": [
        "from tensorflow.keras.layers import BatchNormalization, Dropout, GaussianNoise\n",
        "\n",
        "model = keras.Sequential()\n",
        "model.add(Input((28,28)))\n",
        "model.add(Reshape((28,28,1))) # ADDED\n",
        "model.add(Conv2D(32, (3, 3), padding='same')) # ADDED\n",
        "model.add(BatchNormalization())\n",
        "model.add(Dropout(0.1))\n",
        "model.add(Conv2D(32, (3, 3), padding='same')) # ADDED\n",
        "model.add(BatchNormalization())\n",
        "model.add(Dropout(0.1))\n",
        "model.add(Conv2D(32, (3, 3), padding='same')) # ADDED\n",
        "model.add(BatchNormalization())\n",
        "model.add(Dropout(0.1))\n",
        "model.add(MaxPooling2D((2, 2))) # ADDED\n",
        "model.add(Conv2D(64, (3, 3), padding='same')) # ADDED\n",
        "model.add(BatchNormalization())\n",
        "model.add(Dropout(0.1))\n",
        "model.add(Conv2D(64, (3, 3), padding='same')) # ADDED\n",
        "model.add(BatchNormalization())\n",
        "model.add(Dropout(0.1))\n",
        "model.add(Conv2D(64, (3, 3), padding='same')) # ADDED\n",
        "model.add(BatchNormalization())\n",
        "model.add(Dropout(0.1))\n",
        "model.add(MaxPooling2D((2, 2))) # ADDED\n",
        "model.add(Flatten())\n",
        "model.add(Dense(10, activation='relu'))\n",
        "model.add(BatchNormalization())\n",
        "model.add(Dropout(0.1))\n",
        "model.add(Dense(10, activation='relu'))\n",
        "model.add(BatchNormalization())\n",
        "model.add(Dropout(0.1))\n",
        "model.add(Dense(10, activation='softmax')) \n",
        "model.add(BatchNormalization())\n",
        "model.add(Dropout(0.1)) \n",
        "\n",
        "\n",
        "model.compile(optimizer=\"adam\", loss=\"sparse_categorical_crossentropy\", metrics=[\"accuracy\"])\n",
        "model.summary()\n",
        "\n",
        "\n",
        "# model.fit(train_x, train_y, epochs=5, verbose=1, batch_size=128)\n",
        "history = model.fit(train_x, train_y, epochs=50, verbose=1, batch_size=128, validation_split=0.1)\n",
        "\n",
        "plt.plot(history.history['loss'])\n",
        "plt.plot(history.history['val_loss'])\n",
        "plt.show()\n",
        "\n",
        "loss, acc = model.evaluate(test_x, test_y)\n",
        "print(\"loss=\",loss)\n",
        "print(\"acc=\",acc)\n",
        "\n",
        "y_ = model.predict(test_x)\n",
        "predicted = np.argmax(y_, axis=1)\n",
        "\n",
        "print(predicted)\n"
      ],
      "execution_count": null,
      "outputs": [
        {
          "output_type": "stream",
          "name": "stdout",
          "text": [
            "Model: \"sequential_6\"\n",
            "_________________________________________________________________\n",
            " Layer (type)                Output Shape              Param #   \n",
            "=================================================================\n",
            " reshape_6 (Reshape)         (None, 28, 28, 1)         0         \n",
            "                                                                 \n",
            " conv2d_22 (Conv2D)          (None, 28, 28, 32)        320       \n",
            "                                                                 \n",
            " batch_normalization (BatchN  (None, 28, 28, 32)       128       \n",
            " ormalization)                                                   \n",
            "                                                                 \n",
            " dropout (Dropout)           (None, 28, 28, 32)        0         \n",
            "                                                                 \n",
            " conv2d_23 (Conv2D)          (None, 28, 28, 32)        9248      \n",
            "                                                                 \n",
            " batch_normalization_1 (Batc  (None, 28, 28, 32)       128       \n",
            " hNormalization)                                                 \n",
            "                                                                 \n",
            " dropout_1 (Dropout)         (None, 28, 28, 32)        0         \n",
            "                                                                 \n",
            " conv2d_24 (Conv2D)          (None, 28, 28, 32)        9248      \n",
            "                                                                 \n",
            " batch_normalization_2 (Batc  (None, 28, 28, 32)       128       \n",
            " hNormalization)                                                 \n",
            "                                                                 \n",
            " dropout_2 (Dropout)         (None, 28, 28, 32)        0         \n",
            "                                                                 \n",
            " max_pooling2d_8 (MaxPooling  (None, 14, 14, 32)       0         \n",
            " 2D)                                                             \n",
            "                                                                 \n",
            " conv2d_25 (Conv2D)          (None, 14, 14, 64)        18496     \n",
            "                                                                 \n",
            " batch_normalization_3 (Batc  (None, 14, 14, 64)       256       \n",
            " hNormalization)                                                 \n",
            "                                                                 \n",
            " dropout_3 (Dropout)         (None, 14, 14, 64)        0         \n",
            "                                                                 \n",
            " conv2d_26 (Conv2D)          (None, 14, 14, 64)        36928     \n",
            "                                                                 \n",
            " batch_normalization_4 (Batc  (None, 14, 14, 64)       256       \n",
            " hNormalization)                                                 \n",
            "                                                                 \n",
            " dropout_4 (Dropout)         (None, 14, 14, 64)        0         \n",
            "                                                                 \n",
            " conv2d_27 (Conv2D)          (None, 14, 14, 64)        36928     \n",
            "                                                                 \n",
            " batch_normalization_5 (Batc  (None, 14, 14, 64)       256       \n",
            " hNormalization)                                                 \n",
            "                                                                 \n",
            " dropout_5 (Dropout)         (None, 14, 14, 64)        0         \n",
            "                                                                 \n",
            " max_pooling2d_9 (MaxPooling  (None, 7, 7, 64)         0         \n",
            " 2D)                                                             \n",
            "                                                                 \n",
            " flatten_4 (Flatten)         (None, 3136)              0         \n",
            "                                                                 \n",
            " dense_12 (Dense)            (None, 10)                31370     \n",
            "                                                                 \n",
            " dense_13 (Dense)            (None, 10)                110       \n",
            "                                                                 \n",
            " dense_14 (Dense)            (None, 10)                110       \n",
            "                                                                 \n",
            "=================================================================\n",
            "Total params: 143,910\n",
            "Trainable params: 143,334\n",
            "Non-trainable params: 576\n",
            "_________________________________________________________________\n",
            "Epoch 1/50\n",
            "422/422 [==============================] - 10s 21ms/step - loss: 0.7985 - accuracy: 0.7182 - val_loss: 0.5339 - val_accuracy: 0.8643\n",
            "Epoch 2/50\n",
            "422/422 [==============================] - 8s 20ms/step - loss: 0.2319 - accuracy: 0.9344 - val_loss: 0.1679 - val_accuracy: 0.9592\n",
            "Epoch 3/50\n",
            "422/422 [==============================] - 8s 20ms/step - loss: 0.1683 - accuracy: 0.9512 - val_loss: 0.1253 - val_accuracy: 0.9692\n",
            "Epoch 4/50\n",
            "422/422 [==============================] - 9s 20ms/step - loss: 0.1380 - accuracy: 0.9599 - val_loss: 0.1353 - val_accuracy: 0.9642\n",
            "Epoch 5/50\n",
            "422/422 [==============================] - 9s 20ms/step - loss: 0.1237 - accuracy: 0.9635 - val_loss: 0.1131 - val_accuracy: 0.9713\n",
            "Epoch 6/50\n",
            "422/422 [==============================] - 8s 20ms/step - loss: 0.1119 - accuracy: 0.9676 - val_loss: 0.1055 - val_accuracy: 0.9718\n",
            "Epoch 7/50\n",
            "422/422 [==============================] - 9s 21ms/step - loss: 0.1009 - accuracy: 0.9703 - val_loss: 0.0851 - val_accuracy: 0.9778\n",
            "Epoch 8/50\n",
            "422/422 [==============================] - 9s 20ms/step - loss: 0.0962 - accuracy: 0.9714 - val_loss: 0.1245 - val_accuracy: 0.9638\n",
            "Epoch 9/50\n",
            "422/422 [==============================] - 8s 20ms/step - loss: 0.0896 - accuracy: 0.9736 - val_loss: 0.0916 - val_accuracy: 0.9763\n",
            "Epoch 10/50\n",
            "422/422 [==============================] - 9s 20ms/step - loss: 0.0856 - accuracy: 0.9745 - val_loss: 0.0847 - val_accuracy: 0.9772\n",
            "Epoch 11/50\n",
            "422/422 [==============================] - 9s 20ms/step - loss: 0.0796 - accuracy: 0.9760 - val_loss: 0.1069 - val_accuracy: 0.9693\n",
            "Epoch 12/50\n",
            "422/422 [==============================] - 9s 20ms/step - loss: 0.0770 - accuracy: 0.9776 - val_loss: 0.0784 - val_accuracy: 0.9797\n",
            "Epoch 13/50\n",
            "422/422 [==============================] - 9s 20ms/step - loss: 0.0777 - accuracy: 0.9764 - val_loss: 0.0792 - val_accuracy: 0.9778\n",
            "Epoch 14/50\n",
            "422/422 [==============================] - 9s 20ms/step - loss: 0.0710 - accuracy: 0.9786 - val_loss: 0.0866 - val_accuracy: 0.9783\n",
            "Epoch 15/50\n",
            "422/422 [==============================] - 8s 20ms/step - loss: 0.0700 - accuracy: 0.9791 - val_loss: 0.0659 - val_accuracy: 0.9837\n",
            "Epoch 16/50\n",
            "422/422 [==============================] - 8s 20ms/step - loss: 0.0650 - accuracy: 0.9794 - val_loss: 0.0734 - val_accuracy: 0.9793\n",
            "Epoch 17/50\n",
            "422/422 [==============================] - 8s 20ms/step - loss: 0.0614 - accuracy: 0.9818 - val_loss: 0.0707 - val_accuracy: 0.9828\n",
            "Epoch 18/50\n",
            "422/422 [==============================] - 8s 20ms/step - loss: 0.0631 - accuracy: 0.9807 - val_loss: 0.0854 - val_accuracy: 0.9748\n",
            "Epoch 19/50\n",
            "422/422 [==============================] - 8s 20ms/step - loss: 0.0635 - accuracy: 0.9807 - val_loss: 0.0697 - val_accuracy: 0.9810\n",
            "Epoch 20/50\n",
            "422/422 [==============================] - 8s 20ms/step - loss: 0.0586 - accuracy: 0.9822 - val_loss: 0.0915 - val_accuracy: 0.9743\n",
            "Epoch 21/50\n",
            "422/422 [==============================] - 8s 20ms/step - loss: 0.0549 - accuracy: 0.9833 - val_loss: 0.0948 - val_accuracy: 0.9727\n",
            "Epoch 22/50\n",
            "422/422 [==============================] - 8s 20ms/step - loss: 0.0533 - accuracy: 0.9835 - val_loss: 0.1021 - val_accuracy: 0.9737\n",
            "Epoch 23/50\n",
            "422/422 [==============================] - 8s 20ms/step - loss: 0.0560 - accuracy: 0.9825 - val_loss: 0.0667 - val_accuracy: 0.9815\n",
            "Epoch 24/50\n",
            "422/422 [==============================] - 8s 20ms/step - loss: 0.0535 - accuracy: 0.9835 - val_loss: 0.0837 - val_accuracy: 0.9785\n",
            "Epoch 25/50\n",
            "422/422 [==============================] - 9s 20ms/step - loss: 0.0523 - accuracy: 0.9840 - val_loss: 0.0899 - val_accuracy: 0.9735\n",
            "Epoch 26/50\n",
            "422/422 [==============================] - 9s 20ms/step - loss: 0.0498 - accuracy: 0.9854 - val_loss: 0.0690 - val_accuracy: 0.9803\n",
            "Epoch 27/50\n",
            "422/422 [==============================] - 9s 20ms/step - loss: 0.0488 - accuracy: 0.9849 - val_loss: 0.0895 - val_accuracy: 0.9747\n",
            "Epoch 28/50\n",
            "422/422 [==============================] - 8s 20ms/step - loss: 0.0483 - accuracy: 0.9850 - val_loss: 0.0719 - val_accuracy: 0.9797\n",
            "Epoch 29/50\n",
            "422/422 [==============================] - 8s 20ms/step - loss: 0.0477 - accuracy: 0.9849 - val_loss: 0.0616 - val_accuracy: 0.9825\n",
            "Epoch 30/50\n",
            "422/422 [==============================] - 8s 20ms/step - loss: 0.0437 - accuracy: 0.9869 - val_loss: 0.0650 - val_accuracy: 0.9815\n",
            "Epoch 31/50\n",
            "422/422 [==============================] - 9s 20ms/step - loss: 0.0441 - accuracy: 0.9861 - val_loss: 0.0854 - val_accuracy: 0.9755\n",
            "Epoch 32/50\n",
            "422/422 [==============================] - 9s 20ms/step - loss: 0.0433 - accuracy: 0.9865 - val_loss: 0.0694 - val_accuracy: 0.9797\n",
            "Epoch 33/50\n",
            "422/422 [==============================] - 8s 20ms/step - loss: 0.0434 - accuracy: 0.9860 - val_loss: 0.0593 - val_accuracy: 0.9850\n",
            "Epoch 34/50\n",
            "422/422 [==============================] - 9s 20ms/step - loss: 0.0446 - accuracy: 0.9861 - val_loss: 0.0773 - val_accuracy: 0.9767\n",
            "Epoch 35/50\n",
            "422/422 [==============================] - 9s 20ms/step - loss: 0.0372 - accuracy: 0.9883 - val_loss: 0.0674 - val_accuracy: 0.9803\n",
            "Epoch 36/50\n",
            "422/422 [==============================] - 8s 20ms/step - loss: 0.0404 - accuracy: 0.9873 - val_loss: 0.0638 - val_accuracy: 0.9825\n",
            "Epoch 37/50\n",
            "422/422 [==============================] - 9s 20ms/step - loss: 0.0401 - accuracy: 0.9868 - val_loss: 0.0707 - val_accuracy: 0.9802\n",
            "Epoch 38/50\n",
            "422/422 [==============================] - 8s 20ms/step - loss: 0.0382 - accuracy: 0.9875 - val_loss: 0.0653 - val_accuracy: 0.9820\n",
            "Epoch 39/50\n",
            "422/422 [==============================] - 8s 20ms/step - loss: 0.0392 - accuracy: 0.9881 - val_loss: 0.0734 - val_accuracy: 0.9788\n",
            "Epoch 40/50\n",
            "422/422 [==============================] - 9s 20ms/step - loss: 0.0383 - accuracy: 0.9877 - val_loss: 0.0741 - val_accuracy: 0.9795\n",
            "Epoch 41/50\n",
            "422/422 [==============================] - 8s 20ms/step - loss: 0.0365 - accuracy: 0.9879 - val_loss: 0.0781 - val_accuracy: 0.9790\n",
            "Epoch 42/50\n",
            "422/422 [==============================] - 9s 20ms/step - loss: 0.0354 - accuracy: 0.9889 - val_loss: 0.0605 - val_accuracy: 0.9843\n",
            "Epoch 43/50\n",
            "422/422 [==============================] - 9s 20ms/step - loss: 0.0365 - accuracy: 0.9886 - val_loss: 0.0598 - val_accuracy: 0.9845\n",
            "Epoch 44/50\n",
            "422/422 [==============================] - 8s 20ms/step - loss: 0.0356 - accuracy: 0.9890 - val_loss: 0.0647 - val_accuracy: 0.9793\n",
            "Epoch 45/50\n",
            "422/422 [==============================] - 9s 20ms/step - loss: 0.0350 - accuracy: 0.9889 - val_loss: 0.0616 - val_accuracy: 0.9822\n",
            "Epoch 46/50\n",
            "422/422 [==============================] - 8s 20ms/step - loss: 0.0340 - accuracy: 0.9891 - val_loss: 0.0789 - val_accuracy: 0.9782\n",
            "Epoch 47/50\n",
            "422/422 [==============================] - 8s 20ms/step - loss: 0.0333 - accuracy: 0.9893 - val_loss: 0.0717 - val_accuracy: 0.9790\n",
            "Epoch 48/50\n",
            "422/422 [==============================] - 8s 20ms/step - loss: 0.0357 - accuracy: 0.9885 - val_loss: 0.0549 - val_accuracy: 0.9842\n",
            "Epoch 49/50\n",
            "422/422 [==============================] - 9s 20ms/step - loss: 0.0304 - accuracy: 0.9905 - val_loss: 0.0575 - val_accuracy: 0.9842\n",
            "Epoch 50/50\n",
            "422/422 [==============================] - 8s 20ms/step - loss: 0.0306 - accuracy: 0.9901 - val_loss: 0.0827 - val_accuracy: 0.9770\n"
          ]
        },
        {
          "output_type": "display_data",
          "data": {
            "text/plain": [
              "<Figure size 432x288 with 1 Axes>"
            ],
            "image/png": "[encoded data removed]"
          },
          "metadata": {
            "needs_background": "light"
          }
        },
        {
          "output_type": "stream",
          "name": "stdout",
          "text": [
            "313/313 [==============================] - 1s 4ms/step - loss: 0.0902 - accuracy: 0.9739\n",
            "loss= 0.09024517238140106\n",
            "acc= 0.9739000201225281\n",
            "[7 2 1 ... 4 5 6]\n"
          ]
        }
      ]
    },
    {
      "cell_type": "markdown",
      "metadata": {
        "id": "ky74zSK9D71P"
      },
      "source": [
        "conv2d 레이어의 파라매터 수는 다음에 의해서 결정된다.\n",
        "```\n",
        "파라매터 수 = (conv필터 가로 * conv 필터 세로 * 데이터 깊이 + bias 1개) * 필터 수\n",
        "```\n",
        "위 모델의 경우 파라매터 수 320, 18496은 다음과 같이 결정된다.\n",
        "\n",
        "```\n",
        "320 = (3*3*1+1) * 32\n",
        "\n",
        "18496 = (3*3*32+1)*64\n",
        "```\n",
        "\n",
        "```\n",
        "_________________________________________________________________\n",
        "Layer (type)                 Output Shape              Param #   \n",
        "=================================================================\n",
        "conv2d (Conv2D)              (None, 26, 26, 32)        320       \n",
        "_________________________________________________________________\n",
        "max_pooling2d (MaxPooling2D) (None, 13, 13, 32)        0         \n",
        "_________________________________________________________________\n",
        "conv2d_1 (Conv2D)            (None, 11, 11, 64)        18496     \n",
        "```"
      ]
    },
    {
      "cell_type": "code",
      "metadata": {
        "id": "p2J1Y6VSf8qG"
      },
      "source": [
        ""
      ],
      "execution_count": null,
      "outputs": []
    },
    {
      "cell_type": "markdown",
      "metadata": {
        "id": "z5B0uPv21ttC"
      },
      "source": [
        "# 영상 데이터 분류 CNN Template"
      ]
    },
    {
      "cell_type": "code",
      "metadata": {
        "colab": {
          "base_uri": "https://localhost:8080/"
        },
        "id": "uTQwZZoR1wyT",
        "outputId": "e3919639-ffc9-4dab-d1df-64581121685f"
      },
      "source": [
        "import numpy as np\n",
        "import matplotlib.pyplot as plt\n",
        "\n",
        "import tensorflow as tf\n",
        "from tensorflow import keras\n",
        "from tensorflow.keras import optimizers\n",
        "from tensorflow.keras.layers import Dense, Flatten, Conv2D, MaxPooling2D, Input, Reshape\n",
        "\n",
        "import time\n",
        "\n",
        "(raw_train_x, raw_train_y), (raw_test_x, raw_test_y) = tf.keras.datasets.mnist.load_data()\n",
        "\n",
        "train_x = raw_train_x/255.\n",
        "test_x = raw_test_x/255.\n",
        "\n",
        "train_y = raw_train_y\n",
        "test_y = raw_test_y\n",
        "\n",
        "model = keras.Sequential()\n",
        "model.add(Input((28,28)))\n",
        "model.add(Reshape((28,28,1)))\n",
        "model.add(Conv2D(32, (3, 3)))\n",
        "model.add(MaxPooling2D((2, 2)))\n",
        "model.add(Conv2D(64, (3, 3)))\n",
        "model.add(MaxPooling2D((2, 2)))\n",
        "model.add(Flatten())\n",
        "model.add(Dense(10, activation='relu'))\n",
        "model.add(Dense(10, activation='relu'))\n",
        "model.add(Dense(10, activation='softmax'))\n",
        "\n",
        "\n",
        "model.compile(optimizer=\"adam\", loss=\"sparse_categorical_crossentropy\", metrics=[\"accuracy\"])\n",
        "model.summary()\n",
        "\n",
        "\n",
        "model.fit(train_x, train_y, epochs=5, verbose=1, batch_size=128)\n",
        "\n",
        "\n",
        "loss, acc = model.evaluate(test_x, test_y)\n",
        "print(\"loss=\",loss)\n",
        "print(\"acc=\",acc)\n",
        "\n",
        "y_ = model.predict(test_x)\n",
        "predicted = np.argmax(y_, axis=1)\n",
        "\n",
        "print(predicted)\n"
      ],
      "execution_count": null,
      "outputs": [
        {
          "output_type": "stream",
          "text": [
            "Downloading data from https://storage.googleapis.com/tensorflow/tf-keras-datasets/mnist.npz\n",
            "11493376/11490434 [==============================] - 0s 0us/step\n",
            "WARNING:tensorflow:Please add `keras.layers.InputLayer` instead of `keras.Input` to Sequential model. `keras.Input` is intended to be used by Functional model.\n",
            "Model: \"sequential\"\n",
            "_________________________________________________________________\n",
            "Layer (type)                 Output Shape              Param #   \n",
            "=================================================================\n",
            "reshape (Reshape)            (None, 28, 28, 1)         0         \n",
            "_________________________________________________________________\n",
            "conv2d (Conv2D)              (None, 26, 26, 32)        320       \n",
            "_________________________________________________________________\n",
            "max_pooling2d (MaxPooling2D) (None, 13, 13, 32)        0         \n",
            "_________________________________________________________________\n",
            "conv2d_1 (Conv2D)            (None, 11, 11, 64)        18496     \n",
            "_________________________________________________________________\n",
            "max_pooling2d_1 (MaxPooling2 (None, 5, 5, 64)          0         \n",
            "_________________________________________________________________\n",
            "flatten (Flatten)            (None, 1600)              0         \n",
            "_________________________________________________________________\n",
            "dense (Dense)                (None, 10)                16010     \n",
            "_________________________________________________________________\n",
            "dense_1 (Dense)              (None, 10)                110       \n",
            "_________________________________________________________________\n",
            "dense_2 (Dense)              (None, 10)                110       \n",
            "=================================================================\n",
            "Total params: 35,046\n",
            "Trainable params: 35,046\n",
            "Non-trainable params: 0\n",
            "_________________________________________________________________\n",
            "Epoch 1/5\n",
            "469/469 [==============================] - 56s 118ms/step - loss: 0.5551 - accuracy: 0.8262\n",
            "Epoch 2/5\n",
            "469/469 [==============================] - 42s 89ms/step - loss: 0.1448 - accuracy: 0.9573\n",
            "Epoch 3/5\n",
            "469/469 [==============================] - 43s 91ms/step - loss: 0.0972 - accuracy: 0.9714\n",
            "Epoch 4/5\n",
            "469/469 [==============================] - 43s 92ms/step - loss: 0.0756 - accuracy: 0.9779\n",
            "Epoch 5/5\n",
            "469/469 [==============================] - 42s 89ms/step - loss: 0.0649 - accuracy: 0.9804\n",
            "313/313 [==============================] - 3s 9ms/step - loss: 0.0672 - accuracy: 0.9785\n",
            "loss= 0.06722691655158997\n",
            "acc= 0.9785000085830688\n",
            "[7 2 1 ... 4 5 6]\n"
          ],
          "name": "stdout"
        }
      ]
    },
    {
      "cell_type": "code",
      "metadata": {
        "id": "4eait6xD3-Hv"
      },
      "source": [
        ""
      ],
      "execution_count": null,
      "outputs": []
    }
  ]
}